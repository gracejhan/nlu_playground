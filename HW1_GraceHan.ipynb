{
 "cells": [
  {
   "cell_type": "markdown",
   "metadata": {},
   "source": [
    "# Homework 1, DS-GA 1012, Spring 2019\n",
    "\n",
    "## Grace Han (jh5990@nyu.edu)\n",
    "\n",
    "## Due Feburary 13, 2019 at 2pm (ET)\n",
    "\n",
    "Download the data zip `DS-GA1012-hw1-data.zip`. Complete the following questions in the notebook and submit your completed notebook on NYU Classes."
   ]
  },
  {
   "cell_type": "markdown",
   "metadata": {},
   "source": [
    "## 1. Exploring effect of context size [30 pts]"
   ]
  },
  {
   "cell_type": "markdown",
   "metadata": {},
   "source": [
    "We face many implicit and explicit design decisions in creating distributional word representations. For example, in lecture and in lab, we created word vectors using a co-occurence matrix built on neighboring pairs of words. We might suspect, however, that we can get more signal of word similarity by considering larger contexts than pairs of words."
   ]
  },
  {
   "cell_type": "markdown",
   "metadata": {},
   "source": [
    "__a__. Write `build_cooccurrence_matrix`, which generates the co-occurence matrix for a window of arbitrary size and for the vocabulary of `max_vocab_size` most frequent words. Feel free to modify the code used in lab [10 pts]"
   ]
  },
  {
   "cell_type": "markdown",
   "metadata": {},
   "source": [
    "__Answer__"
   ]
  },
  {
   "cell_type": "code",
   "execution_count": 5,
   "metadata": {},
   "outputs": [],
   "source": [
    "from collections import defaultdict\n",
    "import numpy as np\n",
    "from numpy.linalg import svd\n",
    "import matplotlib.pyplot as plt\n",
    "import time\n",
    "\n",
    "def load_sst(data_file):\n",
    "    with open(data_file, 'r') as data_fh:\n",
    "        data_fh.readline() # skip the header\n",
    "        data = [r.split('\\t')[1] for r in data_fh.readlines()]\n",
    "    return data # a list of sentences\n",
    "\n",
    "def build_cooccurrence_matrix(data, max_vocab_size=20000, context_size=1):\n",
    "    \"\"\" Build a co-occurrence matrix\n",
    "    \n",
    "    args:\n",
    "        - data: iterable where each item is a list of tokens (string) \n",
    "        - max_vocab_size: maximum vocabulary size\n",
    "        - context_size: window around a word that is considered context\n",
    "            context_size=1 should consider pairs of adjacent words\n",
    "            \n",
    "    returns:\n",
    "        - co-occurrence matrix: numpy array where row i corresponds to the co-occurrence counts for word i\"\"\"\n",
    "    def get_token_frequencies():\n",
    "        tok2freq = defaultdict(int) # frequency of each token in the entire data\n",
    "        coocur_counts = defaultdict(lambda: defaultdict(int))\n",
    "        \n",
    "        for datum in data:\n",
    "            tokens = datum.strip().split()\n",
    "            for i, tok in enumerate(tokens):\n",
    "                tok2freq[tok] += 1\n",
    "                coocur_counts[tok][tok] += 1\n",
    "                if i < len(tokens) - context_size:\n",
    "                    for j in range(1, context_size+1):\n",
    "                        coocur_counts[tok][tokens[i + j]] += 1\n",
    "                        coocur_counts[tokens[i + j]][tok] += 1\n",
    "                elif i < len(tokens) - 1: # compute co-occurence for last context_size tokens\n",
    "                    for j in range(1, len(tokens)-i):\n",
    "                        coocur_counts[tok][tokens[i + j]] += 1\n",
    "                        coocur_counts[tokens[i + j]][tok] += 1\n",
    "                            \n",
    "        return tok2freq, coocur_counts\n",
    "    \n",
    "    def prune_vocabulary(tok2freq, max_vocab_size):\n",
    "        \"\"\" Prune vocab by taking max_vocab_size most frequent words \"\"\"\n",
    "        tok_and_freqs = [(k, v) for k, v in tok2freq.items()]\n",
    "        tok_and_freqs.sort(key = lambda x: x[1], reverse=True) # sorts in-place\n",
    "        tok2idx = {tok: idx for idx, (tok, _) in enumerate(tok_and_freqs[:max_vocab_size])}\n",
    "        idx2tok = {idx: tok for tok, idx in tok2idx.items()}\n",
    "        return tok2idx, idx2tok\n",
    "    \n",
    "    def _build_coocurrence_mat(idx2tok, coocur_counts):\n",
    "        vocab_size = len(idx2tok)\n",
    "        mat = [[0 for _ in range(vocab_size)] for _ in range(vocab_size)]\n",
    "        for i in range(vocab_size - 1):\n",
    "            for j in range(i, vocab_size):    # start from i instead of i+1 to fill in the diagonal matrix\n",
    "                if coocur_counts[idx2tok[i]][idx2tok[j]]:\n",
    "                    mat[i][j] = coocur_counts[idx2tok[i]][idx2tok[j]]\n",
    "                    mat[j][i] = coocur_counts[idx2tok[i]][idx2tok[j]]\n",
    "        return np.array(mat)        \n",
    "\n",
    "    \n",
    "    print(\"Counting words...\")\n",
    "    start_time = time.time()\n",
    "    tok2freq, coocur_counts = get_token_frequencies()\n",
    "    print(\"\\tFinished counting words in %.5f\" % (time.time() - start_time))\n",
    "\n",
    "    print(\"Pruning vocabulary...\")\n",
    "    tok2idx, idx2tok = prune_vocabulary(tok2freq, max_vocab_size)\n",
    "    start_time = time.time()\n",
    "    print(\"\\tFinished pruning vocabulary in %.5f\" % (time.time() - start_time))\n",
    "    \n",
    "    print(\"Building co-occurrence matrix...\")\n",
    "    start_time = time.time()\n",
    "    coocur_mat = _build_coocurrence_mat(idx2tok, coocur_counts)\n",
    "    print(\"\\tFinished building co-occurrence matrix in %.5f\" % (time.time() - start_time))\n",
    "    return coocur_mat, tok2idx, idx2tok"
   ]
  },
  {
   "cell_type": "markdown",
   "metadata": {},
   "source": [
    "Use your implementation of `build_cooccurrence_matrix` to generate the co-occurence matrix from the sentences of [SST](http://nlp.stanford.edu/~socherr/stanfordSentimentTreebank.zip) (file `datasetSentences.txt`) with `context_size=2` and `max_vocab_size=10000`. What is the co-occurrence count of the words \"the\" and \"end\"? "
   ]
  },
  {
   "cell_type": "markdown",
   "metadata": {},
   "source": [
    "__Answer__"
   ]
  },
  {
   "cell_type": "code",
   "execution_count": 6,
   "metadata": {},
   "outputs": [
    {
     "name": "stdout",
     "output_type": "stream",
     "text": [
      "Counting words...\n",
      "\tFinished counting words in 0.69655\n",
      "Pruning vocabulary...\n",
      "\tFinished pruning vocabulary in 0.00000\n",
      "Building co-occurrence matrix...\n",
      "\tFinished building co-occurrence matrix in 26.71117\n"
     ]
    }
   ],
   "source": [
    "data_file = 'HW1/datasetSentences.txt'\n",
    "\n",
    "data = load_sst(data_file)\n",
    "mat, tok2idx, idx2tok = build_cooccurrence_matrix(data, max_vocab_size=10000, context_size=2)"
   ]
  },
  {
   "cell_type": "code",
   "execution_count": 7,
   "metadata": {},
   "outputs": [
    {
     "data": {
      "text/plain": [
       "array([[11164,    95,   636, ...,     0,     0,     1],\n",
       "       [   95, 11179,  1383, ...,     0,     1,     0],\n",
       "       [  636,  1383,  8435, ...,     0,     0,     0],\n",
       "       ..., \n",
       "       [    0,     0,     0, ...,     2,     0,     0],\n",
       "       [    0,     1,     0, ...,     0,     2,     0],\n",
       "       [    1,     0,     0, ...,     0,     0,     0]])"
      ]
     },
     "execution_count": 7,
     "metadata": {},
     "output_type": "execute_result"
    }
   ],
   "source": [
    "# Check the diagonal elements in the matrix\n",
    "mat"
   ]
  },
  {
   "cell_type": "code",
   "execution_count": 8,
   "metadata": {},
   "outputs": [
    {
     "name": "stdout",
     "output_type": "stream",
     "text": [
      "Co-occurrence count of \"the\" and \"end\" : 98\n"
     ]
    }
   ],
   "source": [
    "print(\"Co-occurrence count of \\\"the\\\" and \\\"end\\\" : %d\" % mat[tok2idx['the']][tok2idx['end']])"
   ]
  },
  {
   "cell_type": "markdown",
   "metadata": {},
   "source": [
    "__b__. Plot the effect of varying context size in $\\{1, 2, 3, 4\\}$ (leaving all the other settings the same) on the quality of the learned word embeddings, as measured by performance (Spearman correlation) on the word similarity dataset [MTurk-771](http://www2.mta.ac.il/~gideon/mturk771.html) between human judgments and cosine similarity of the learned word vectors (see lab). [12 pts]"
   ]
  },
  {
   "cell_type": "markdown",
   "metadata": {},
   "source": [
    "__Answer__"
   ]
  },
  {
   "cell_type": "code",
   "execution_count": 9,
   "metadata": {},
   "outputs": [],
   "source": [
    "def vector_length(u):\n",
    "    return np.sqrt(np.dot(u, u))\n",
    "\n",
    "def cosine(u, v):        \n",
    "    return 1.0 - (np.dot(u, v) / (vector_length(u) * vector_length(v)))\n",
    "\n",
    "def prob_norm(u):\n",
    "    return u / np.sum(u)\n",
    "\n",
    "def rowwise_norm_mat(mat):\n",
    "    return np.array([prob_norm(u) for u in mat])"
   ]
  },
  {
   "cell_type": "code",
   "execution_count": 10,
   "metadata": {},
   "outputs": [],
   "source": [
    "from scipy.stats import spearmanr\n",
    "\n",
    "def load_word_similarity_dataset(data_file):\n",
    "    with open(data_file, 'r') as data_fh:\n",
    "        raw_data = data_fh.readlines()\n",
    "    data = []\n",
    "    trgs = []\n",
    "    for datum in raw_data:\n",
    "        datum = datum.strip().split(',')\n",
    "        data.append((datum[0], datum[1]))\n",
    "        trgs.append(float(datum[2]))\n",
    "    return data, trgs\n",
    "\n",
    "def evaluate_word_similarity(word_pairs, targets, mat, tok2idx):\n",
    "    preds = []\n",
    "    trgs = []\n",
    "    n_exs = 0\n",
    "    for (word1, word2), trg in zip(word_pairs, targets):\n",
    "        if word1 in tok2idx and word2 in tok2idx:\n",
    "            pred_sim = 1 - cosine(mat[tok2idx[word1]], mat[tok2idx[word2]])\n",
    "            preds.append(pred_sim)\n",
    "            trgs.append(trg)\n",
    "            n_exs += 1\n",
    "    \n",
    "    rho, pvalue = spearmanr(trgs, preds)\n",
    "    print(\"Evaluated on %d of %d examples\" % (n_exs, len(word_pairs)))\n",
    "    return rho"
   ]
  },
  {
   "cell_type": "code",
   "execution_count": 11,
   "metadata": {},
   "outputs": [],
   "source": [
    "test_file = 'HW1/MTURK-771.csv'\n",
    "test_data, test_trgs = load_word_similarity_dataset(test_file)"
   ]
  },
  {
   "cell_type": "code",
   "execution_count": 12,
   "metadata": {},
   "outputs": [
    {
     "name": "stdout",
     "output_type": "stream",
     "text": [
      "* Context size: 1\n",
      "Counting words...\n",
      "\tFinished counting words in 0.41459\n",
      "Pruning vocabulary...\n",
      "\tFinished pruning vocabulary in 0.00000\n",
      "Building co-occurrence matrix...\n",
      "\tFinished building co-occurrence matrix in 52.23208\n",
      "* Context size: 2\n",
      "Counting words...\n",
      "\tFinished counting words in 1.59681\n",
      "Pruning vocabulary...\n",
      "\tFinished pruning vocabulary in 0.00000\n",
      "Building co-occurrence matrix...\n",
      "\tFinished building co-occurrence matrix in 29.70679\n",
      "* Context size: 3\n",
      "Counting words...\n",
      "\tFinished counting words in 0.99853\n",
      "Pruning vocabulary...\n",
      "\tFinished pruning vocabulary in 0.00000\n",
      "Building co-occurrence matrix...\n",
      "\tFinished building co-occurrence matrix in 30.64419\n",
      "* Context size: 4\n",
      "Counting words...\n",
      "\tFinished counting words in 2.65033\n",
      "Pruning vocabulary...\n",
      "\tFinished pruning vocabulary in 0.00000\n",
      "Building co-occurrence matrix...\n",
      "\tFinished building co-occurrence matrix in 35.12511\n"
     ]
    }
   ],
   "source": [
    "print(\"* Context size: 1\")\n",
    "mat1, tok2idx1, idx2tok1 = build_cooccurrence_matrix(data, max_vocab_size=10000, context_size=1)\n",
    "print(\"* Context size: 2\")\n",
    "mat2, tok2idx2, idx2tok2 = build_cooccurrence_matrix(data, max_vocab_size=10000, context_size=2)\n",
    "print(\"* Context size: 3\")\n",
    "mat3, tok2idx3, idx2tok3 = build_cooccurrence_matrix(data, max_vocab_size=10000, context_size=3)\n",
    "print(\"* Context size: 4\")\n",
    "mat4, tok2idx4, idx2tok4 = build_cooccurrence_matrix(data, max_vocab_size=10000, context_size=4)\n",
    "\n",
    "norm_mat1 = rowwise_norm_mat(mat1)\n",
    "norm_mat2 = rowwise_norm_mat(mat2)\n",
    "norm_mat3 = rowwise_norm_mat(mat3)\n",
    "norm_mat4 = rowwise_norm_mat(mat4)"
   ]
  },
  {
   "cell_type": "code",
   "execution_count": 13,
   "metadata": {},
   "outputs": [
    {
     "name": "stdout",
     "output_type": "stream",
     "text": [
      "Evaluated on 248 of 771 examples\n",
      "Evaluated on 248 of 771 examples\n",
      "Evaluated on 248 of 771 examples\n",
      "Evaluated on 248 of 771 examples\n"
     ]
    }
   ],
   "source": [
    "rho1 = evaluate_word_similarity(test_data, test_trgs, norm_mat1, tok2idx)\n",
    "rho2 = evaluate_word_similarity(test_data, test_trgs, norm_mat2, tok2idx)\n",
    "rho3 = evaluate_word_similarity(test_data, test_trgs, norm_mat3, tok2idx)\n",
    "rho4 = evaluate_word_similarity(test_data, test_trgs, norm_mat4, tok2idx)"
   ]
  },
  {
   "cell_type": "code",
   "execution_count": 14,
   "metadata": {},
   "outputs": [
    {
     "data": {
      "image/png": "[encoded data removed]",
      "text/plain": [
       "<matplotlib.figure.Figure at 0x115270b38>"
      ]
     },
     "metadata": {
      "needs_background": "light"
     },
     "output_type": "display_data"
    }
   ],
   "source": [
    "context_sizes = [1,2,3,4]\n",
    "similarities = [rho1, rho2, rho3, rho4]\n",
    "\n",
    "plt.scatter(context_sizes, similarities)\n",
    "plt.xlabel('Context Size')\n",
    "plt.ylabel('Similarity')\n",
    "for x, y in zip(context_sizes, similarities):\n",
    "    plt.text(x, y, str(round(y, 4)))\n",
    "plt.show()"
   ]
  },
  {
   "cell_type": "markdown",
   "metadata": {},
   "source": [
    "__c__. Briefly discuss the pros and cons of varying (i) the context size (ii) the vocabulary size (iii) using bigrams instead of unigrams (iv) using subword tokens instead of words. [8 pts]"
   ]
  },
  {
   "cell_type": "markdown",
   "metadata": {},
   "source": [
    "__Answer__"
   ]
  },
  {
   "cell_type": "markdown",
   "metadata": {},
   "source": [
    "(i) Varying the context size: A small context size lets you discover the syntactic characteristic of the target word. For example which words often appear side by side with a certain word. But this may not capture the semantic characteristic of the word. For example, in what type of sentences the word frequently appears in. For big context size the pros and cons will be the opposite.\n",
    "\n",
    "(ii) Varying the vocabulary size: A small vocaublary size will let you focus on the high frequency words in smaller dimension. It will be good if you are only looking into those words. However, if you want to consider a bigger range of words you should consider a bigger vocabulary but you will have to work with a high dimensional and sparse matrix.\n",
    "\n",
    "(iii) Using bigrams instead of unigrams: By using bigrams ordering of words will be taken into account. However, the maximum vocabulary size becomes $V^2$ where $V$ is the unigram vocabulary size. You will have to work with a high dimensional and sparse matrix.\n",
    "\n",
    "(iv) Using subword tokens instead of words: You will be able to capture the syntactic patterns of how words are combined or transformed. However this is not effective for the case where you want to capture the semantic characteristic of the tokens since creating subwords out of words produces bigger number of tokens. This means the dimesionality of the token matrix will be increased and be sparse."
   ]
  },
  {
   "cell_type": "markdown",
   "metadata": {},
   "source": [
    "## 2. Pointwise Mutual Information [20 pts]"
   ]
  },
  {
   "cell_type": "markdown",
   "metadata": {},
   "source": [
    "In lecture, we introduced __pointwise mutual information__ (PMI), which addresses the issue of normalization removing information about absolute magnitudes of counts. The PMI for word $\\times$ context pair $(w,c)$ is \n",
    "\n",
    "$$\\log\\left(\\frac{P(w,c)}{P(w) \\cdot P(c)}\\right)$$\n",
    "\n",
    "with $\\log(0) = 0$. This is a measure of how far that cell's value deviates from what we would expect given the row and column sums for that cell."
   ]
  },
  {
   "cell_type": "markdown",
   "metadata": {},
   "source": [
    "__a__. Implement `pmi`, a function which takes in a co-occurence matrix and returns the matrix with PMI normalization applied. [15 pts]"
   ]
  },
  {
   "cell_type": "markdown",
   "metadata": {},
   "source": [
    "__Answer__"
   ]
  },
  {
   "cell_type": "code",
   "execution_count": 15,
   "metadata": {},
   "outputs": [],
   "source": [
    "def pmi(mat, positive=False):\n",
    "    \"\"\"Pointwise mutual information\n",
    "    \n",
    "    args:\n",
    "        - mat: 2d np.array to apply PMI\n",
    "        - positive: set to True for PPMI\n",
    "        \n",
    "    returns:\n",
    "        - pmi_mat: matrix of same shape with PMI applied\n",
    "    \"\"\"\n",
    "    def custom_log(num):\n",
    "        if not num:\n",
    "            return 0\n",
    "        else:\n",
    "            return np.log(num)\n",
    "        \n",
    "    pmi_mat = [[0 for _ in range(len(mat[0]))] for _ in range(len(mat))]\n",
    "    sum_w = np.reshape(np.sum(mat,axis=1), (mat.shape[0], 1))\n",
    "    sum_c = np.reshape(np.sum(mat,axis=0), (1, mat.shape[1]))\n",
    "    total_words = np.sum(sum_w)\n",
    "    for i in range(len(mat)):\n",
    "        for j in range(i, len(mat[0])):\n",
    "            numerator = mat[i][j] / total_words\n",
    "            denominator = (sum_w[i][0] / total_words) * (sum_c[0][j] / total_words)\n",
    "            val = custom_log(numerator / denominator)\n",
    "            if positive==True:\n",
    "                val = max(val, 0)\n",
    "            pmi_mat[i][j] = val\n",
    "            pmi_mat[j][i] = val\n",
    "    return pmi_mat"
   ]
  },
  {
   "cell_type": "markdown",
   "metadata": {},
   "source": [
    "Apply PMI to the co-occurence matrix computed above with `context_size=1`. What is the PMI between the words \"the\" and \"end\"?"
   ]
  },
  {
   "cell_type": "markdown",
   "metadata": {},
   "source": [
    "__Answer__"
   ]
  },
  {
   "cell_type": "code",
   "execution_count": 16,
   "metadata": {},
   "outputs": [
    {
     "name": "stdout",
     "output_type": "stream",
     "text": [
      " PMI between the words \"the\" and \"end\": 1.72683\n"
     ]
    }
   ],
   "source": [
    "pmi_mat1 = pmi(mat1)\n",
    "\n",
    "print(\" PMI between the words \\\"the\\\" and \\\"end\\\": %.5f\" % pmi_mat1[tok2idx['the']][tok2idx['end']])"
   ]
  },
  {
   "cell_type": "markdown",
   "metadata": {},
   "source": [
    "__b__. We also consider an extension of PMI, positive PMI (PPMI), that maps all negative PMI values to 0.0 ([Levy and Goldberg 2014](http://papers.nips.cc/paper/5477-neural-word-embedding-as-implicit-matrix-factorization)). \n",
    "Write `ppmi`, which is the same as `pmi` except it applies PPMI instead of PMI (feel free to implement it as an option of `pmi`). What is the PMI of the words \"the\" and \"start\"? The PPMI? [5 pts]"
   ]
  },
  {
   "cell_type": "markdown",
   "metadata": {},
   "source": [
    "__Answer__"
   ]
  },
  {
   "cell_type": "code",
   "execution_count": 19,
   "metadata": {},
   "outputs": [],
   "source": [
    "def pmi(mat, positive=False):\n",
    "    \"\"\"Pointwise mutual information\n",
    "    \n",
    "    args:\n",
    "        - mat: 2d np.array to apply PMI\n",
    "        - positive: set to True for PPMI\n",
    "        \n",
    "    returns:\n",
    "        - pmi_mat: matrix of same shape with PMI applied\n",
    "    \"\"\"\n",
    "    def custom_log(num):\n",
    "        if not num:\n",
    "            return 0\n",
    "        else:\n",
    "            return np.log(num)\n",
    "        \n",
    "    pmi_mat = [[0 for _ in range(len(mat[0]))] for _ in range(len(mat))]\n",
    "    sum_w = np.reshape(np.sum(mat,axis=1), (mat.shape[0], 1))\n",
    "    sum_c = np.reshape(np.sum(mat,axis=0), (1, mat.shape[1]))\n",
    "    total_words = np.sum(sum_w)\n",
    "    for i in range(len(mat)):\n",
    "        for j in range(i, len(mat[0])):\n",
    "            numerator = mat[i][j] / total_words\n",
    "            denominator = (sum_w[i][0] / total_words) * (sum_c[0][j] / total_words)\n",
    "            val = custom_log(numerator / denominator)\n",
    "            if positive==True:\n",
    "                val = max(val, 0)\n",
    "            pmi_mat[i][j] = val\n",
    "            pmi_mat[j][i] = val\n",
    "    return pmi_mat"
   ]
  },
  {
   "cell_type": "code",
   "execution_count": 20,
   "metadata": {},
   "outputs": [],
   "source": [
    "pmi_mat1 = pmi(mat1, False)\n",
    "ppmi_mat1 = pmi(mat1, True)"
   ]
  },
  {
   "cell_type": "code",
   "execution_count": 21,
   "metadata": {},
   "outputs": [
    {
     "name": "stdout",
     "output_type": "stream",
     "text": [
      "PMI between the words \"the\" and \"start\": 0.292151278\n",
      "PPMI between the words \"the\" and \"start\": 0.292151278\n"
     ]
    }
   ],
   "source": [
    "print(\"PMI between the words \\\"the\\\" and \\\"start\\\": %.9f\" % pmi_mat1[tok2idx['the']][tok2idx['start']])\n",
    "print(\"PPMI between the words \\\"the\\\" and \\\"start\\\": %.9f\" % ppmi_mat1[tok2idx['the']][tok2idx['start']])"
   ]
  },
  {
   "cell_type": "markdown",
   "metadata": {},
   "source": [
    "## 3. Analyzing PMI [25 pts]"
   ]
  },
  {
   "cell_type": "markdown",
   "metadata": {},
   "source": [
    "__a__. Consider the matrix `np.array([[1.0, 0.0, 0.0], [1000.0, 1000.0, 4000.0], [1000.0, 2000.0, 999.0]])`. Reweight this matrix using `ppmi`. (i) What is the value obtained for cell `[0,0]`, and (ii) give a brief description for what is likely problematic about this value. [10 pts]"
   ]
  },
  {
   "cell_type": "markdown",
   "metadata": {},
   "source": [
    "__Answer__"
   ]
  },
  {
   "cell_type": "code",
   "execution_count": 22,
   "metadata": {},
   "outputs": [
    {
     "data": {
      "text/plain": [
       "[[1.6089380373924496, 0, 0],\n",
       " [0, 0, 0.28788209245444807],\n",
       " [0, 0.28788209245444807, 0]]"
      ]
     },
     "execution_count": 22,
     "metadata": {},
     "output_type": "execute_result"
    }
   ],
   "source": [
    "pmi(np.array([[1.0, 0.0, 0.0], [1000.0, 1000.0, 4000.0], [1000.0, 2000.0, 999.0]]), True)"
   ]
  },
  {
   "cell_type": "markdown",
   "metadata": {},
   "source": [
    "(i) The value for cell [0,0] is 1.6089380373924496.\n",
    "\n",
    "(ii) The value of cell [0,0] is shown as a much higher value compared to any other values in the cell even though the the value of [0,0] in the original matrix is significantly lower than other values. Low frequency values should be considered with less weight when computing the PMI."
   ]
  },
  {
   "cell_type": "markdown",
   "metadata": {},
   "source": [
    "__b__. Give a suggestion for dealing with the problematic value and explain why it deals with this. Demonstrate your suggestion empirically [10 pts]"
   ]
  },
  {
   "cell_type": "markdown",
   "metadata": {},
   "source": [
    "__Answer__"
   ]
  },
  {
   "cell_type": "markdown",
   "metadata": {},
   "source": [
    "We can use the Normalized PMI.\n",
    "\n",
    "The Normalized PMI(NPMI)  for word $\\times$ context pair $(w,c)$ is \n",
    "\n",
    "$$\\log\\left(\\frac{P(w,c)}{P(w) \\cdot P(c)}\\right)\\bigg/{-\\log{P(w,c)}}$$\n",
    "\n",
    "This takes into account the co-occurence frequency of the word pairs. Word pairs $w, c$ that have low co-occurence frequency has small $P(w,c)$ $\\Rightarrow$ small  $\\log{P(w,c)}$ $\\Rightarrow$ big  $-\\log{P(w,c)}$ $\\Rightarrow$ small  $-1 / \\log{P(w,c)}$\n",
    "\n",
    "Therefore multiplying PMI by $-1 / \\log{P(w,c)}$ adds co-occurence frequency factor to the PMI and deals the problem we faced above.\n",
    "\n",
    "The value of NPMI can be viewed as follows.\n",
    "\n",
    "1) $w$ and $c$ never co-occur \n",
    "\n",
    "$$P(w,c) = 0 \\Rightarrow \\log{P(w,c)} \\rightarrow -\\infty \\Rightarrow NPMI = -1$$\n",
    "\n",
    "2) $w$ and $c$ are independent\n",
    "\n",
    "$$P(w,c) = P(w)P(c) \\Rightarrow PMI = 0 \\rightarrow NPMI = 0$$\n",
    "\n",
    "3) $w$ and $c$ always co-occurs\n",
    "\n",
    "$$P(w,c) = P(w) = P(c) \\Rightarrow NPMI = 1$$"
   ]
  },
  {
   "cell_type": "code",
   "execution_count": null,
   "metadata": {},
   "outputs": [],
   "source": [
    "# Define a normalized PMI\n",
    "\n",
    "def npmi(mat, positive=False):\n",
    "    \"\"\"Nomralized Pointwise mutual information\n",
    "    \n",
    "    args:\n",
    "        - mat: 2d np.array to apply NPMI\n",
    "        - positive: set to True for PPMI\n",
    "        \n",
    "    returns:\n",
    "        - npmi_mat: matrix of same shape with PMI applied\n",
    "    \"\"\"\n",
    "    def custom_log(num):\n",
    "        if not num:\n",
    "            return 0\n",
    "        else:\n",
    "            return np.log(num)\n",
    "        \n",
    "    npmi_mat = [[0 for _ in range(len(mat[0]))] for _ in range(len(mat))]\n",
    "    sum_w = np.reshape(np.sum(mat,axis=1), (mat.shape[0], 1))\n",
    "    sum_c = np.reshape(np.sum(mat,axis=0), (1, mat.shape[1]))\n",
    "    total_words = np.sum(sum_w)\n",
    "\n",
    "    for i in range(len(mat)):\n",
    "        for j in range(i, len(mat[0])):\n",
    "            numerator = mat[i][j] / total_words\n",
    "            denominator = (sum_w[i][0] / total_words) * (sum_c[0][j] / total_words)\n",
    "            _pmi = custom_log(numerator / denominator)\n",
    "            normalizer = (-1) * np.log(numerator)\n",
    "            val = _pmi / normalizer\n",
    "            if positive==True:\n",
    "                val = max(val, 0)\n",
    "            npmi_mat[i][j] = val\n",
    "            npmi_mat[j][i] = val\n",
    "    return npmi_mat"
   ]
  },
  {
   "cell_type": "code",
   "execution_count": null,
   "metadata": {},
   "outputs": [],
   "source": [
    "# NPMI\n",
    "npmi(np.array([[1.0, 0.0, 0.0], [1000.0, 1000.0, 4000.0], [1000.0, 2000.0, 999.0]]), False)"
   ]
  },
  {
   "cell_type": "code",
   "execution_count": null,
   "metadata": {},
   "outputs": [],
   "source": [
    "# Positive NPMI\n",
    "npmi(np.array([[1.0, 0.0, 0.0], [1000.0, 1000.0, 4000.0], [1000.0, 2000.0, 999.0]]), True)"
   ]
  },
  {
   "cell_type": "markdown",
   "metadata": {},
   "source": [
    "__c__. Consider starting with a word-word co-occurence matrix and applied PMI to this matrix. (i) Which of the following describe the resulting vectors: sparse, dense, high-dimensional, low-dimensional (ii) If you wanted the opposite style of representation, what could you do? [5 pts]\n"
   ]
  },
  {
   "cell_type": "markdown",
   "metadata": {},
   "source": [
    "__Answer__"
   ]
  },
  {
   "cell_type": "markdown",
   "metadata": {},
   "source": [
    "(i) Sparse and high-dimensional.\n",
    "\n",
    "(ii) Use Latent Semantic Analysis to perform dimensionality reduction on the matrix."
   ]
  },
  {
   "cell_type": "markdown",
   "metadata": {},
   "source": [
    "## 4. Word Analogy Evaluation [25 pts]"
   ]
  },
  {
   "cell_type": "markdown",
   "metadata": {},
   "source": [
    "Word analogies provide another kind of evaluation for distributed representations. Here, we are given three vectors A, B, and C, in the relationship\n",
    "\n",
    "_A is to B as C is to __ _\n",
    "\n",
    "and asked to identify the fourth that completes the analogy. These analogies are by and large substantially easier than the classic brain-teaser analogies that used to appear on tests like the SAT, but it's still an interesting, demanding\n",
    "task. \n",
    "\n",
    "The core idea is that we make predictions by creating the vector\n",
    "\n",
    "$$(A - B) + C$$ \n",
    "\n",
    "and then ranking all vectors based on their distance from this new vector, choosing the closest as our prediction."
   ]
  },
  {
   "cell_type": "markdown",
   "metadata": {},
   "source": [
    "__a__. Implement the function `analogy_completion`. [9 pts]"
   ]
  },
  {
   "cell_type": "markdown",
   "metadata": {},
   "source": [
    "__Answer__"
   ]
  },
  {
   "cell_type": "code",
   "execution_count": null,
   "metadata": {},
   "outputs": [],
   "source": [
    "from operator import itemgetter\n",
    "\n",
    "def analogy_completion(a, b, c, mat):\n",
    "    \"\"\"Compute ? in \n",
    "    a is to b as c is to ? \n",
    "    as the closest to (b-a) + c\n",
    "    \n",
    "    mat:\n",
    "        - a dictionary of words and their vector representations\n",
    "        - key: word\n",
    "        - value: vector representation of each word as an array\n",
    "    \"\"\"\n",
    "    for x in (a, b, c):\n",
    "        if x not in mat.keys():\n",
    "            raise ValueError('%s is not in this dataset' % x)\n",
    "    new_vec = mat[b] - mat[a] + mat[c]\n",
    "    # compute the cosine distance\n",
    "    distances = [(word, cosine(new_vec, mat[word])) for word in mat.keys() if word not in (a, b, c)]\n",
    "    return sorted(distances, key=itemgetter(1), reverse=False)"
   ]
  },
  {
   "cell_type": "markdown",
   "metadata": {},
   "source": [
    "__b__. Our simple word embeddings likely won't perform well on this task. Let's instead look at some high quality pretrained word embeddings. Write code to load 300-dimensional [GloVe word embeddings](http://nlp.stanford.edu/data/glove.840B.300d.zip) trained on 840B tokens. Each line of the file is formatted as a word followed by 300 floats that make up its corresponding word embedding (all space delimited). The entries of GloVe word embeddings are not counts, but instead are learned via machine learning. Use your `analogy_completion` code to complete the following analogies using the GloVe word embeddings. [6 pts]"
   ]
  },
  {
   "cell_type": "markdown",
   "metadata": {},
   "source": [
    "__Answer__"
   ]
  },
  {
   "cell_type": "code",
   "execution_count": null,
   "metadata": {},
   "outputs": [],
   "source": [
    "def load_glove(glove_file, n_vecs=20000):\n",
    "    \"\"\" \"\"\"\n",
    "    tok2vec = {}\n",
    "    with open(glove_file, 'r') as glove_fh:\n",
    "        for i, row in enumerate(glove_fh):\n",
    "            word, vec = row.split(' ', 1)\n",
    "            tok2vec[word] = np.array([float(n) for n in vec.split(' ')])\n",
    "            if i >= n_vecs:\n",
    "                break\n",
    "    return tok2vec"
   ]
  },
  {
   "cell_type": "code",
   "execution_count": null,
   "metadata": {},
   "outputs": [],
   "source": [
    "glove_file = \"HW1/glove.840B.300d.txt\"\n",
    "glove_vecs = load_glove(glove_file, n_vecs=50000)"
   ]
  },
  {
   "cell_type": "code",
   "execution_count": null,
   "metadata": {},
   "outputs": [],
   "source": [
    "glove_vecs[:3]"
   ]
  },
  {
   "cell_type": "code",
   "execution_count": null,
   "metadata": {},
   "outputs": [],
   "source": [
    "# \"Beijing\" is to \"China\" as \"Paris\" is to ?\n",
    "analogy_completion(\"Beijing\", \"China\", \"Paris\", glove_vecs)[:5]"
   ]
  },
  {
   "cell_type": "code",
   "execution_count": null,
   "metadata": {},
   "outputs": [],
   "source": [
    "# \"gold\" is to \"first\" as \"silver\" is to ?\n",
    "analogy_completion(\"gold\", \"first\", \"silver\", glove_vecs)[:5]"
   ]
  },
  {
   "cell_type": "code",
   "execution_count": null,
   "metadata": {},
   "outputs": [],
   "source": [
    "# \"Italian\" is to \"mozzarella\" as \"American\" is to ?\n",
    "analogy_completion(\"Italian\", \"mozzarella\", \"American\", glove_vecs)[:5]"
   ]
  },
  {
   "cell_type": "code",
   "execution_count": 26,
   "metadata": {},
   "outputs": [
    {
     "data": {
      "text/plain": [
       "[('awesome', 0.50272776147317089),\n",
       " ('cool', 0.52646862649484039),\n",
       " ('enjoyable', 0.53702365147115905),\n",
       " ('cute', 0.54849439029975011),\n",
       " ('exciting', 0.55400816850583301)]"
      ]
     },
     "execution_count": 26,
     "metadata": {},
     "output_type": "execute_result"
    }
   ],
   "source": [
    "# \"research\" is to \"fun\" as \"engineering\" is to ?\n",
    "analogy_completion(\"research\", \"fun\", \"engineering\", glove_vecs)[:5]"
   ]
  },
  {
   "cell_type": "markdown",
   "metadata": {},
   "source": [
    "c. Let's get a more quantitative, aggregate sense of the quality of GloVe embeddings. Load the analogies from `gram6-nationality-adjective.txt` and evaluate GloVe embeddings. Report the mean reciprocal rank of the correct answer (the last word on each line) for each analogy. [10 pts]"
   ]
  },
  {
   "cell_type": "markdown",
   "metadata": {},
   "source": [
    "__Answer__"
   ]
  },
  {
   "cell_type": "code",
   "execution_count": 27,
   "metadata": {},
   "outputs": [],
   "source": [
    "def analogy_evaluation(glove_vecs, test_file, verbose=False):\n",
    "    # Read the test data file\n",
    "    test_file = \"HW1/\" + test_file\n",
    "    test_data = [line.split() for line in open(test_file).read().splitlines()]\n",
    "    test_data = [x for x in test_data if set(x) <= set(glove_vecs.keys())]\n",
    "\n",
    "    result_dic = defaultdict(int)\n",
    "    ranks = []\n",
    "    \n",
    "    # a is to b as c is to d\n",
    "    for a, b, c, d in test_data:\n",
    "        predicted_tup = analogy_completion(a, b, c, glove_vecs)\n",
    "        predicted_words, cos_dis = zip(*predicted_tup)\n",
    "        result_dic[predicted_words[0]==d] += 1\n",
    "        ranks.append(1.0 / (predicted_words.index(d)+1))\n",
    "            \n",
    "    mrr = np.mean(ranks)\n",
    "    return (mrr, result_dic)"
   ]
  },
  {
   "cell_type": "code",
   "execution_count": 28,
   "metadata": {},
   "outputs": [
    {
     "data": {
      "text/plain": [
       "(0.95335458482388313, defaultdict(int, {True: 219, False: 15}))"
      ]
     },
     "execution_count": 28,
     "metadata": {},
     "output_type": "execute_result"
    }
   ],
   "source": [
    "analogy_evaluation(glove_vecs, \"gram6-nationality-adjective.txt\")"
   ]
  }
 ],
 "metadata": {
  "kernelspec": {
   "display_name": "Python 3",
   "language": "python",
   "name": "python3"
  },
  "language_info": {
   "codemirror_mode": {
    "name": "ipython",
    "version": 3
   },
   "file_extension": ".py",
   "mimetype": "text/x-python",
   "name": "python",
   "nbconvert_exporter": "python",
   "pygments_lexer": "ipython3",
   "version": "3.6.8"
  }
 },
 "nbformat": 4,
 "nbformat_minor": 1
}
